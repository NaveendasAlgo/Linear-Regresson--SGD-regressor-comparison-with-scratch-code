{
 "cells": [
  {
   "cell_type": "code",
   "execution_count": 64,
   "metadata": {
    "collapsed": true
   },
   "outputs": [],
   "source": [
    "# Defining Libraries\n",
    "\n",
    "import pandas as pd\n",
    "import numpy as np\n",
    "import matplotlib.pyplot as plt\n",
    "from sklearn.datasets import load_boston\n",
    "from sklearn.model_selection import train_test_split\n",
    "from sklearn.linear_model import LinearRegression\n",
    "from sklearn.metrics import mean_squared_error\n",
    "from sklearn.preprocessing import Normalizer,StandardScaler\n",
    "from sklearn import linear_model\n",
    "from sklearn.linear_model import SGDRegressor\n",
    "\n",
    "\n"
   ]
  },
  {
   "cell_type": "code",
   "execution_count": 65,
   "metadata": {
    "collapsed": true
   },
   "outputs": [],
   "source": [
    "#Loading boston dataset nad splitting in train and test\n",
    "\n",
    "boston=load_boston()\n",
    "df=pd.DataFrame(data=boston.data)\n",
    "price=boston.target\n",
    "X_train, X_test, y_train, y_test=train_test_split(df, price, test_size=0.3)"
   ]
  },
  {
   "cell_type": "code",
   "execution_count": 66,
   "metadata": {
    "collapsed": true
   },
   "outputs": [],
   "source": [
    "# Scaling data with standard scaler\n",
    "\n",
    "scaler=StandardScaler()\n",
    "X_train=scaler.fit_transform(X_train)\n",
    "X_test=scaler.transform(X_test)"
   ]
  },
  {
   "cell_type": "code",
   "execution_count": 67,
   "metadata": {
    "collapsed": true
   },
   "outputs": [],
   "source": [
    "# Convering data into arrays\n",
    "\n",
    "X_train=np.array(X_train)\n",
    "y_train=np.array(y_train)\n",
    "X_test=np.array(X_test)\n",
    "y_test=np.array(y_test)"
   ]
  },
  {
   "cell_type": "code",
   "execution_count": 68,
   "metadata": {},
   "outputs": [
    {
     "data": {
      "text/plain": [
       "array([ 0.31658112, -0.48796909,  0.97994742, -0.2511236 ,  0.47980336,\n",
       "       -0.23587455,  0.59283099, -0.83105865,  1.65265009,  1.53051864,\n",
       "        0.79727192, -3.67582241,  1.41635163])"
      ]
     },
     "execution_count": 68,
     "metadata": {},
     "output_type": "execute_result"
    }
   ],
   "source": [
    "X_train[0]"
   ]
  },
  {
   "cell_type": "code",
   "execution_count": 69,
   "metadata": {
    "collapsed": true
   },
   "outputs": [],
   "source": [
    "#Sklearn SGD regressor\n",
    "\n",
    "def SGDREG_sklearn(X_train,y_train,X_test,y_test,alpha,iteration):\n",
    "    clf=SGDRegressor(alpha=alpha, learning_rate='constant', eta0=0.01, n_iter=iteration)\n",
    "    clf.fit(X_train,y_train)\n",
    "    y_pred=clf.predict(X_test)\n",
    "    mse=mean_squared_error(y_true=y_test,y_pred=y_pred)\n",
    "    print(\"MSE on Our SGD regressor is\",mse)\n",
    "    return clf.coef_, clf.intercept_, mse"
   ]
  },
  {
   "cell_type": "code",
   "execution_count": 70,
   "metadata": {},
   "outputs": [
    {
     "name": "stdout",
     "output_type": "stream",
     "text": [
      "MSE on Our SGD regressor is 30.325691537161628\n",
      "[-1.15866623  1.21595869  0.12748213  0.07693166 -1.6667176   2.81685428\n",
      " -0.84337904 -3.01816318  2.34482176 -1.68300632 -2.06367324  0.76539828\n",
      " -2.8689131 ] [22.15178694] 30.325691537161628\n"
     ]
    },
    {
     "name": "stderr",
     "output_type": "stream",
     "text": [
      "C:\\Users\\andy\\Anaconda3\\lib\\site-packages\\sklearn\\linear_model\\stochastic_gradient.py:152: DeprecationWarning: n_iter parameter is deprecated in 0.19 and will be removed in 0.21. Use max_iter and tol instead.\n",
      "  DeprecationWarning)\n"
     ]
    }
   ],
   "source": [
    "w_sgd, b_sgd, error_sgd=SGDREG_sklearn(X_train,y_train,X_test,y_test,alpha=.0001, iteration=1000)\n",
    "print(w_sgd,b_sgd,error_sgd)"
   ]
  },
  {
   "cell_type": "code",
   "execution_count": 71,
   "metadata": {
    "collapsed": true
   },
   "outputs": [],
   "source": [
    "#SGD scratch code\n",
    "\n",
    "def SGDREG_scratch(X_train,y_train,X_test,y_test,alpha,iteration):\n",
    "    w_new=np.zeros(shape=(1,13))\n",
    "    b_new=0\n",
    "    r=.01\n",
    "    \n",
    "    for i in range(iteration):\n",
    "        w_old=w_new\n",
    "        b_old=b_new\n",
    "        w_=np.zeros(shape=(1,13))\n",
    "        b_=0\n",
    "        x=X_train\n",
    "        y=y_train\n",
    "        \n",
    "        \n",
    "        for i in range(150):  # for getting the derivatives using sgd with k=10\n",
    "            y_curr=np.dot(w_old,x[i])+b_old\n",
    "            w_+=x[i] * (y[i] - y_curr)\n",
    "            b_+=(y[i]-y_curr)\n",
    "            \n",
    "            \n",
    "        w_*=(-2/x.shape[0])\n",
    "        b_*=(-2/x.shape[0])\n",
    "        \n",
    "        #updating the parameters\n",
    "        w_new=(w_old-r*w_)\n",
    "        b_new=(b_old-r*b_)\n",
    "        \n",
    "        \n",
    "        y_pred=[]\n",
    "    for i in range(len(X_test)):        \n",
    "        y=np.asscalar(np.dot(w_new,X_test[i])+b_new)\n",
    " #       print(y)\n",
    "        y_pred.append(y)\n",
    "    y_pred=np.array(y_pred)\n",
    " #       print(y_pred)\n",
    " #       print(y_pred.shape)\n",
    "    mse=mean_squared_error(y_pred=y_pred,y_true=y_test)\n",
    "    return w_new, b_new,mse\n",
    "    "
   ]
  },
  {
   "cell_type": "code",
   "execution_count": 72,
   "metadata": {
    "collapsed": true
   },
   "outputs": [],
   "source": [
    "w_new, b_new,mse=SGDREG_scratch(X_train,y_train,X_test,y_test,.0001,1000)"
   ]
  },
  {
   "cell_type": "code",
   "execution_count": 73,
   "metadata": {},
   "outputs": [
    {
     "name": "stdout",
     "output_type": "stream",
     "text": [
      "[[-1.09491772  0.57054931 -0.39907074  1.12551786 -0.41193448  4.72954726\n",
      "  -0.73071285 -2.27012407  1.03229826 -1.44240454 -1.43691378  0.3773582\n",
      "  -3.16919158]] [21.76632295] 35.07247703009148\n"
     ]
    }
   ],
   "source": [
    "print(w_new, b_new,mse)"
   ]
  },
  {
   "cell_type": "code",
   "execution_count": 74,
   "metadata": {},
   "outputs": [
    {
     "data": {
      "text/html": [
       "<div>\n",
       "<style>\n",
       "    .dataframe thead tr:only-child th {\n",
       "        text-align: right;\n",
       "    }\n",
       "\n",
       "    .dataframe thead th {\n",
       "        text-align: left;\n",
       "    }\n",
       "\n",
       "    .dataframe tbody tr th {\n",
       "        vertical-align: top;\n",
       "    }\n",
       "</style>\n",
       "<table border=\"1\" class=\"dataframe\">\n",
       "  <thead>\n",
       "    <tr style=\"text-align: right;\">\n",
       "      <th></th>\n",
       "      <th>weights_sklearn</th>\n",
       "      <th>Weights_scratch</th>\n",
       "    </tr>\n",
       "  </thead>\n",
       "  <tbody>\n",
       "    <tr>\n",
       "      <th>0</th>\n",
       "      <td>-1.158666</td>\n",
       "      <td>-1.094918</td>\n",
       "    </tr>\n",
       "    <tr>\n",
       "      <th>1</th>\n",
       "      <td>1.215959</td>\n",
       "      <td>0.570549</td>\n",
       "    </tr>\n",
       "    <tr>\n",
       "      <th>2</th>\n",
       "      <td>0.127482</td>\n",
       "      <td>-0.399071</td>\n",
       "    </tr>\n",
       "    <tr>\n",
       "      <th>3</th>\n",
       "      <td>0.076932</td>\n",
       "      <td>1.125518</td>\n",
       "    </tr>\n",
       "    <tr>\n",
       "      <th>4</th>\n",
       "      <td>-1.666718</td>\n",
       "      <td>-0.411934</td>\n",
       "    </tr>\n",
       "    <tr>\n",
       "      <th>5</th>\n",
       "      <td>2.816854</td>\n",
       "      <td>4.729547</td>\n",
       "    </tr>\n",
       "    <tr>\n",
       "      <th>6</th>\n",
       "      <td>-0.843379</td>\n",
       "      <td>-0.730713</td>\n",
       "    </tr>\n",
       "    <tr>\n",
       "      <th>7</th>\n",
       "      <td>-3.018163</td>\n",
       "      <td>-2.270124</td>\n",
       "    </tr>\n",
       "    <tr>\n",
       "      <th>8</th>\n",
       "      <td>2.344822</td>\n",
       "      <td>1.032298</td>\n",
       "    </tr>\n",
       "    <tr>\n",
       "      <th>9</th>\n",
       "      <td>-1.683006</td>\n",
       "      <td>-1.442405</td>\n",
       "    </tr>\n",
       "    <tr>\n",
       "      <th>10</th>\n",
       "      <td>-2.063673</td>\n",
       "      <td>-1.436914</td>\n",
       "    </tr>\n",
       "    <tr>\n",
       "      <th>11</th>\n",
       "      <td>0.765398</td>\n",
       "      <td>0.377358</td>\n",
       "    </tr>\n",
       "    <tr>\n",
       "      <th>12</th>\n",
       "      <td>-2.868913</td>\n",
       "      <td>-3.169192</td>\n",
       "    </tr>\n",
       "  </tbody>\n",
       "</table>\n",
       "</div>"
      ],
      "text/plain": [
       "    weights_sklearn  Weights_scratch\n",
       "0         -1.158666        -1.094918\n",
       "1          1.215959         0.570549\n",
       "2          0.127482        -0.399071\n",
       "3          0.076932         1.125518\n",
       "4         -1.666718        -0.411934\n",
       "5          2.816854         4.729547\n",
       "6         -0.843379        -0.730713\n",
       "7         -3.018163        -2.270124\n",
       "8          2.344822         1.032298\n",
       "9         -1.683006        -1.442405\n",
       "10        -2.063673        -1.436914\n",
       "11         0.765398         0.377358\n",
       "12        -2.868913        -3.169192"
      ]
     },
     "execution_count": 74,
     "metadata": {},
     "output_type": "execute_result"
    }
   ],
   "source": [
    "# Comparision of target output from  SKLEARN and  SCRATCH\n",
    "\n",
    "df=pd.DataFrame(data=[w_sgd,w_new[0]],index=['weights_sklearn','Weights_scratch'])\n",
    "df.T"
   ]
  },
  {
   "cell_type": "code",
   "execution_count": 26,
   "metadata": {},
   "outputs": [
    {
     "data": {
      "image/png": "[encoded data removed]",
      "text/plain": [
       "<matplotlib.figure.Figure at 0x240b524b0f0>"
      ]
     },
     "metadata": {},
     "output_type": "display_data"
    }
   ],
   "source": [
    "#Plotting weights between SKLEARN vs SCRATCH\n",
    "\n",
    "plt.figure(figsize=(8,8))\n",
    "plt.plot(w_sgd,label=\"SGD-weight-sklearn\")\n",
    "plt.plot(w_new[0],label=\"SGD-weight-scratch\")\n",
    "plt.legend()\n",
    "\n",
    "plt.show()"
   ]
  },
  {
   "cell_type": "code",
   "execution_count": 58,
   "metadata": {},
   "outputs": [
    {
     "data": {
      "text/html": [
       "<div>\n",
       "<style>\n",
       "    .dataframe thead tr:only-child th {\n",
       "        text-align: right;\n",
       "    }\n",
       "\n",
       "    .dataframe thead th {\n",
       "        text-align: left;\n",
       "    }\n",
       "\n",
       "    .dataframe tbody tr th {\n",
       "        vertical-align: top;\n",
       "    }\n",
       "</style>\n",
       "<table border=\"1\" class=\"dataframe\">\n",
       "  <thead>\n",
       "    <tr style=\"text-align: right;\">\n",
       "      <th></th>\n",
       "      <th>MSE</th>\n",
       "      <th>intercept</th>\n",
       "    </tr>\n",
       "  </thead>\n",
       "  <tbody>\n",
       "    <tr>\n",
       "      <th>SKLEARN</th>\n",
       "      <td>21.471734</td>\n",
       "      <td>22.831567</td>\n",
       "    </tr>\n",
       "    <tr>\n",
       "      <th>SCRATCH</th>\n",
       "      <td>22.853128</td>\n",
       "      <td>22.993267</td>\n",
       "    </tr>\n",
       "  </tbody>\n",
       "</table>\n",
       "</div>"
      ],
      "text/plain": [
       "               MSE  intercept\n",
       "SKLEARN  21.471734  22.831567\n",
       "SCRATCH  22.853128  22.993267"
      ]
     },
     "execution_count": 58,
     "metadata": {},
     "output_type": "execute_result"
    }
   ],
   "source": [
    "#Comparison for MSE and Intercept SKLEARN vs SCRATCH\n",
    "\n",
    "df1=pd.DataFrame(data={'intercept':(b_sgd[0],b_new[0]),'MSE':(error_sgd,mse)},index=['SKLEARN','SCRATCH'])\n",
    "df1"
   ]
  },
  {
   "cell_type": "markdown",
   "metadata": {},
   "source": [
    "### Conclusion : We have sucessfully compared the results of sklearn sgd approach and written from scratch code.The plot shows the diff is not much for both wieghts and intercept"
   ]
  },
  {
   "cell_type": "markdown",
   "metadata": {},
   "source": [
    "Code reference:https://github.com/anshuak100/Implement-SGD-to-Linear-Regression-on-Boston-house-prices-dataset/blob/master/sgd_imp_final.ipynb"
   ]
  },
  {
   "cell_type": "code",
   "execution_count": null,
   "metadata": {
    "collapsed": true
   },
   "outputs": [],
   "source": []
  }
 ],
 "metadata": {
  "kernelspec": {
   "display_name": "Python 3",
   "language": "python",
   "name": "python3"
  },
  "language_info": {
   "codemirror_mode": {
    "name": "ipython",
    "version": 3
   },
   "file_extension": ".py",
   "mimetype": "text/x-python",
   "name": "python",
   "nbconvert_exporter": "python",
   "pygments_lexer": "ipython3",
   "version": "3.6.3"
  }
 },
 "nbformat": 4,
 "nbformat_minor": 2
}
